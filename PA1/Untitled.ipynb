{
 "cells": [
  {
   "cell_type": "code",
   "execution_count": 1,
   "metadata": {},
   "outputs": [],
   "source": [
    "import numpy as np"
   ]
  },
  {
   "cell_type": "code",
   "execution_count": 20,
   "metadata": {},
   "outputs": [],
   "source": [
    "np1 = np.random.rand(10000)\n",
    "np2 = np.random.rand(10000)\n",
    "l1 = np1.tolist()\n",
    "l2 = np2.tolist()"
   ]
  },
  {
   "cell_type": "code",
   "execution_count": 30,
   "metadata": {},
   "outputs": [],
   "source": [
    "def list_dot(l1,l2):\n",
    "    s = 0\n",
    "    for i in range(100):\n",
    "        s += l1[i]*l2[i]\n",
    "    return s\n",
    "\n",
    "def np_dot(np1,np2):\n",
    "    return np.dot(np1,np2)\n",
    "\n",
    "def list_sum(l1,l2,l3,l4,l5):\n",
    "    s1 = sum(l1)\n",
    "    s2 = sum(l2)\n",
    "    s3 = sum(l3)\n",
    "    s4 = sum(l4)\n",
    "    s5 = sum(l5)\n",
    "\n",
    "def np_sum(l1,l2,l3,l4,l5):\n",
    "    s1 = np.sum(l1)\n",
    "    s2 = np.sum(l2)\n",
    "    s3 = np.sum(l3)\n",
    "    s4 = np.sum(l4)\n",
    "    s5 = np.sum(l5)"
   ]
  },
  {
   "cell_type": "code",
   "execution_count": 21,
   "metadata": {},
   "outputs": [
    {
     "name": "stdout",
     "output_type": "stream",
     "text": [
      "CPU times: user 35 µs, sys: 7 µs, total: 42 µs\n",
      "Wall time: 69.9 µs\n"
     ]
    },
    {
     "data": {
      "text/plain": [
       "27.493009791101436"
      ]
     },
     "execution_count": 21,
     "metadata": {},
     "output_type": "execute_result"
    }
   ],
   "source": [
    "%time list_dot(l1,l2)"
   ]
  },
  {
   "cell_type": "code",
   "execution_count": 22,
   "metadata": {},
   "outputs": [
    {
     "name": "stdout",
     "output_type": "stream",
     "text": [
      "CPU times: user 129 µs, sys: 52 µs, total: 181 µs\n",
      "Wall time: 136 µs\n"
     ]
    },
    {
     "data": {
      "text/plain": [
       "2505.7736056825502"
      ]
     },
     "execution_count": 22,
     "metadata": {},
     "output_type": "execute_result"
    }
   ],
   "source": [
    "%time np_dot(np1,np2)"
   ]
  },
  {
   "cell_type": "code",
   "execution_count": 39,
   "metadata": {},
   "outputs": [],
   "source": [
    "l1 = np.random.rand(100).tolist();np1= np.array(l1)\n",
    "l2= np.random.rand(100).tolist();np2= np.array(l2)\n",
    "l3= np.random.rand(100).tolist();np3= np.array(l3)\n",
    "l4= np.random.rand(100).tolist();np4= np.array(l4)\n",
    "l5= np.random.rand(100).tolist();np5= np.array(l5)"
   ]
  },
  {
   "cell_type": "code",
   "execution_count": 40,
   "metadata": {},
   "outputs": [
    {
     "name": "stdout",
     "output_type": "stream",
     "text": [
      "CPU times: user 10 µs, sys: 1e+03 ns, total: 11 µs\n",
      "Wall time: 13.1 µs\n"
     ]
    }
   ],
   "source": [
    "%time list_sum(l1,l2,l3,l4,l5)"
   ]
  },
  {
   "cell_type": "code",
   "execution_count": 41,
   "metadata": {},
   "outputs": [
    {
     "name": "stdout",
     "output_type": "stream",
     "text": [
      "CPU times: user 52 µs, sys: 1 µs, total: 53 µs\n",
      "Wall time: 57 µs\n"
     ]
    }
   ],
   "source": [
    "%time np_sum(np1,np2,np3,np4,np5)"
   ]
  },
  {
   "cell_type": "code",
   "execution_count": 4,
   "metadata": {},
   "outputs": [],
   "source": [
    "label = ['a','a','a','b','e','b','c','e']\n",
    "cls = np.unique(label)"
   ]
  },
  {
   "cell_type": "code",
   "execution_count": 11,
   "metadata": {},
   "outputs": [
    {
     "data": {
      "text/plain": [
       "4"
      ]
     },
     "execution_count": 11,
     "metadata": {},
     "output_type": "execute_result"
    }
   ],
   "source": [
    "cls.size"
   ]
  },
  {
   "cell_type": "code",
   "execution_count": 29,
   "metadata": {},
   "outputs": [
    {
     "data": {
      "text/plain": [
       "3"
      ]
     },
     "execution_count": 29,
     "metadata": {},
     "output_type": "execute_result"
    }
   ],
   "source": [
    "feature = [2,3,4,5,5,5,3,2,7,9,1]\n",
    "feature.count(5)"
   ]
  },
  {
   "cell_type": "code",
   "execution_count": 15,
   "metadata": {},
   "outputs": [],
   "source": [
    "sorted_features = dict()\n",
    "for i in range(6):\n",
    "    sorted_features[i] = []"
   ]
  },
  {
   "cell_type": "code",
   "execution_count": 17,
   "metadata": {},
   "outputs": [
    {
     "data": {
      "text/plain": [
       "[]"
      ]
     },
     "execution_count": 17,
     "metadata": {},
     "output_type": "execute_result"
    }
   ],
   "source": [
    "sorted_features[0]"
   ]
  },
  {
   "cell_type": "code",
   "execution_count": 22,
   "metadata": {},
   "outputs": [
    {
     "data": {
      "text/plain": [
       "[['a', 'b', 'c'], [2, 4, 3], [3, 5, 5], ['.', ',', ';']]"
      ]
     },
     "execution_count": 22,
     "metadata": {},
     "output_type": "execute_result"
    }
   ],
   "source": [
    "l=[['a',2,3,'.'],['b',4,5,','],['c',3,5,';']]\n",
    "list(map(list, zip(*l)))"
   ]
  },
  {
   "cell_type": "code",
   "execution_count": 25,
   "metadata": {},
   "outputs": [
    {
     "data": {
      "text/plain": [
       "[['a', 'b', 'c'], ['2', '4', '3'], ['3', '5', '5'], ['.', ',', ';']]"
      ]
     },
     "execution_count": 25,
     "metadata": {},
     "output_type": "execute_result"
    }
   ],
   "source": [
    "np.array(l).T.tolist()"
   ]
  },
  {
   "cell_type": "code",
   "execution_count": 21,
   "metadata": {},
   "outputs": [
    {
     "data": {
      "text/plain": [
       "[['a', 2, 3], ['b', 4, 5, ',', 'e'], ['c', 3, 5, ';']]"
      ]
     },
     "execution_count": 21,
     "metadata": {},
     "output_type": "execute_result"
    }
   ],
   "source": [
    "l2"
   ]
  },
  {
   "cell_type": "code",
   "execution_count": 26,
   "metadata": {},
   "outputs": [],
   "source": [
    "l = []\n",
    "l.append([1,2,3])"
   ]
  },
  {
   "cell_type": "code",
   "execution_count": 30,
   "metadata": {},
   "outputs": [],
   "source": [
    "featuresT = [[2,3,4,5],['a','e','r','r'],['.','.',';','/']]\n",
    "attr_value = [None for i in range(3)]\n",
    "for i in range(3):\n",
    "    attr_value[i] = np.unique(featuresT[i]).tolist()"
   ]
  },
  {
   "cell_type": "code",
   "execution_count": 38,
   "metadata": {},
   "outputs": [
    {
     "data": {
      "text/plain": [
       "0"
      ]
     },
     "execution_count": 38,
     "metadata": {},
     "output_type": "execute_result"
    }
   ],
   "source": [
    "dim = 0\n",
    "l = [1]\n",
    "len(l[0:dim] + l[dim+1:])"
   ]
  },
  {
   "cell_type": "code",
   "execution_count": null,
   "metadata": {},
   "outputs": [],
   "source": []
  }
 ],
 "metadata": {
  "kernelspec": {
   "display_name": "Python [conda env:py36]",
   "language": "python",
   "name": "conda-env-py36-py"
  },
  "language_info": {
   "codemirror_mode": {
    "name": "ipython",
    "version": 3
   },
   "file_extension": ".py",
   "mimetype": "text/x-python",
   "name": "python",
   "nbconvert_exporter": "python",
   "pygments_lexer": "ipython3",
   "version": "3.6.4"
  }
 },
 "nbformat": 4,
 "nbformat_minor": 2
}
